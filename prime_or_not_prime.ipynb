{
  "nbformat": 4,
  "nbformat_minor": 0,
  "metadata": {
    "colab": {
      "name": "prime_or_not_prime.ipynb",
      "provenance": [],
      "authorship_tag": "ABX9TyNpNVtVdKFMmztBB8JTHQp0",
      "include_colab_link": true
    },
    "kernelspec": {
      "name": "python3",
      "display_name": "Python 3"
    }
  },
  "cells": [
    {
      "cell_type": "markdown",
      "metadata": {
        "id": "view-in-github",
        "colab_type": "text"
      },
      "source": [
        "<a href=\"https://colab.research.google.com/github/minessi91/Colaboratory/blob/master/prime_or_not_prime.ipynb\" target=\"_parent\"><img src=\"https://colab.research.google.com/assets/colab-badge.svg\" alt=\"Open In Colab\"/></a>"
      ]
    },
    {
      "cell_type": "code",
      "metadata": {
        "id": "Cf2wGcxy_b1n",
        "colab_type": "code",
        "colab": {
          "base_uri": "https://localhost:8080/",
          "height": 51
        },
        "outputId": "6c1f9ba1-a921-46ff-ee04-c084faf70887"
      },
      "source": [
        "value = int(input(\"Enter a value between 2 and 100:\"))\n",
        "\n",
        "if (value >=2 and value<=100):\n",
        "   (prime(value))\n",
        "else:\n",
        "    print(\"Exceeded value!\")\n",
        "   \n",
        "\n",
        "def prime(valor):\n",
        "  if ( value%2 == 0 or value%3 == 0 or value%5 == 0 or value%7 == 0):\n",
        "    print(\"It's not prime\")\n",
        "  else:\n",
        "    print(\"It's a prime\")\n",
        "  \n",
        "\n",
        "\n",
        "\n",
        "       \n",
        "\n",
        "\n"
      ],
      "execution_count": 19,
      "outputs": [
        {
          "output_type": "stream",
          "text": [
            "Enter a value between 2 and 100:33\n",
            "It's not prime\n"
          ],
          "name": "stdout"
        }
      ]
    }
  ]
}